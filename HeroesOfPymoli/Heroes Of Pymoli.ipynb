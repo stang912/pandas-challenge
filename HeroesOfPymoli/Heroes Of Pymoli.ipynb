{
 "cells": [
  {
   "cell_type": "markdown",
   "metadata": {},
   "source": [
    "### Heroes Of Pymoli Data Analysis\n",
    "\n",
    "* Even though the age group 20-24 had the highest purchase count, the age group 35-39 had the highest average purchase price. The data shows this group had an average purchase price of $3.60\n",
    "\n",
    "* Of the 576 active players, the vast majority are male (84%). There also exists, a smaller, but notable proportion of female players (14%).\n",
    "\n",
    "* Our peak age demographic falls between 20-24 (44.79%) with secondary groups falling between 15-19 (18.58%) and 25-29 (13.37%).  \n"
   ]
  },
  {
   "cell_type": "code",
   "execution_count": 1,
   "metadata": {},
   "outputs": [
    {
     "data": {
      "text/html": [
       "<div>\n",
       "<style scoped>\n",
       "    .dataframe tbody tr th:only-of-type {\n",
       "        vertical-align: middle;\n",
       "    }\n",
       "\n",
       "    .dataframe tbody tr th {\n",
       "        vertical-align: top;\n",
       "    }\n",
       "\n",
       "    .dataframe thead th {\n",
       "        text-align: right;\n",
       "    }\n",
       "</style>\n",
       "<table border=\"1\" class=\"dataframe\">\n",
       "  <thead>\n",
       "    <tr style=\"text-align: right;\">\n",
       "      <th></th>\n",
       "      <th>Purchase ID</th>\n",
       "      <th>SN</th>\n",
       "      <th>Age</th>\n",
       "      <th>Gender</th>\n",
       "      <th>Item ID</th>\n",
       "      <th>Item Name</th>\n",
       "      <th>Price</th>\n",
       "    </tr>\n",
       "  </thead>\n",
       "  <tbody>\n",
       "    <tr>\n",
       "      <th>0</th>\n",
       "      <td>0</td>\n",
       "      <td>Lisim78</td>\n",
       "      <td>20</td>\n",
       "      <td>Male</td>\n",
       "      <td>108</td>\n",
       "      <td>Extraction, Quickblade Of Trembling Hands</td>\n",
       "      <td>3.53</td>\n",
       "    </tr>\n",
       "    <tr>\n",
       "      <th>1</th>\n",
       "      <td>1</td>\n",
       "      <td>Lisovynya38</td>\n",
       "      <td>40</td>\n",
       "      <td>Male</td>\n",
       "      <td>143</td>\n",
       "      <td>Frenzied Scimitar</td>\n",
       "      <td>1.56</td>\n",
       "    </tr>\n",
       "    <tr>\n",
       "      <th>2</th>\n",
       "      <td>2</td>\n",
       "      <td>Ithergue48</td>\n",
       "      <td>24</td>\n",
       "      <td>Male</td>\n",
       "      <td>92</td>\n",
       "      <td>Final Critic</td>\n",
       "      <td>4.88</td>\n",
       "    </tr>\n",
       "    <tr>\n",
       "      <th>3</th>\n",
       "      <td>3</td>\n",
       "      <td>Chamassasya86</td>\n",
       "      <td>24</td>\n",
       "      <td>Male</td>\n",
       "      <td>100</td>\n",
       "      <td>Blindscythe</td>\n",
       "      <td>3.27</td>\n",
       "    </tr>\n",
       "    <tr>\n",
       "      <th>4</th>\n",
       "      <td>4</td>\n",
       "      <td>Iskosia90</td>\n",
       "      <td>23</td>\n",
       "      <td>Male</td>\n",
       "      <td>131</td>\n",
       "      <td>Fury</td>\n",
       "      <td>1.44</td>\n",
       "    </tr>\n",
       "  </tbody>\n",
       "</table>\n",
       "</div>"
      ],
      "text/plain": [
       "   Purchase ID             SN  Age Gender  Item ID  \\\n",
       "0            0        Lisim78   20   Male      108   \n",
       "1            1    Lisovynya38   40   Male      143   \n",
       "2            2     Ithergue48   24   Male       92   \n",
       "3            3  Chamassasya86   24   Male      100   \n",
       "4            4      Iskosia90   23   Male      131   \n",
       "\n",
       "                                   Item Name  Price  \n",
       "0  Extraction, Quickblade Of Trembling Hands   3.53  \n",
       "1                          Frenzied Scimitar   1.56  \n",
       "2                               Final Critic   4.88  \n",
       "3                                Blindscythe   3.27  \n",
       "4                                       Fury   1.44  "
      ]
     },
     "execution_count": 1,
     "metadata": {},
     "output_type": "execute_result"
    }
   ],
   "source": [
    "# Dependencies and Setup\n",
    "import pandas as pd\n",
    "\n",
    "# File to Load (Remember to Change These)\n",
    "file_to_load = \"../Resources/purchase_data.csv\"\n",
    "\n",
    "# Read Purchasing File and store into Pandas data frame\n",
    "purchase_data = pd.read_csv(file_to_load)\n",
    "\n",
    "purchase_data.head()"
   ]
  },
  {
   "cell_type": "markdown",
   "metadata": {},
   "source": [
    "## Player Count"
   ]
  },
  {
   "cell_type": "markdown",
   "metadata": {},
   "source": [
    "* Display the total number of players\n"
   ]
  },
  {
   "cell_type": "code",
   "execution_count": 2,
   "metadata": {},
   "outputs": [
    {
     "data": {
      "text/html": [
       "<div>\n",
       "<style scoped>\n",
       "    .dataframe tbody tr th:only-of-type {\n",
       "        vertical-align: middle;\n",
       "    }\n",
       "\n",
       "    .dataframe tbody tr th {\n",
       "        vertical-align: top;\n",
       "    }\n",
       "\n",
       "    .dataframe thead th {\n",
       "        text-align: right;\n",
       "    }\n",
       "</style>\n",
       "<table border=\"1\" class=\"dataframe\">\n",
       "  <thead>\n",
       "    <tr style=\"text-align: right;\">\n",
       "      <th></th>\n",
       "      <th>Total Players</th>\n",
       "    </tr>\n",
       "  </thead>\n",
       "  <tbody>\n",
       "    <tr>\n",
       "      <th>0</th>\n",
       "      <td>576</td>\n",
       "    </tr>\n",
       "  </tbody>\n",
       "</table>\n",
       "</div>"
      ],
      "text/plain": [
       "   Total Players\n",
       "0            576"
      ]
     },
     "execution_count": 2,
     "metadata": {},
     "output_type": "execute_result"
    }
   ],
   "source": [
    "total = len(purchase_data['SN'].value_counts())\n",
    "\n",
    "totalplayers = pd.DataFrame({\"Total Players\": [total]})\n",
    "\n",
    "totalplayers\n"
   ]
  },
  {
   "cell_type": "markdown",
   "metadata": {},
   "source": [
    "## Purchasing Analysis (Total)"
   ]
  },
  {
   "cell_type": "markdown",
   "metadata": {},
   "source": [
    "* Run basic calculations to obtain number of unique items, average price, etc.\n",
    "\n",
    "\n",
    "* Create a summary data frame to hold the results\n",
    "\n",
    "\n",
    "* Optional: give the displayed data cleaner formatting\n",
    "\n",
    "\n",
    "* Display the summary data frame\n"
   ]
  },
  {
   "cell_type": "code",
   "execution_count": 3,
   "metadata": {
    "scrolled": true
   },
   "outputs": [
    {
     "data": {
      "text/html": [
       "<style  type=\"text/css\" >\n",
       "</style><table id=\"T_637cc970_7156_11ea_99b7_8c85905a7079\" ><thead>    <tr>        <th class=\"blank level0\" ></th>        <th class=\"col_heading level0 col0\" >Number of Items</th>        <th class=\"col_heading level0 col1\" >Average Price</th>        <th class=\"col_heading level0 col2\" >Number of Purchases</th>        <th class=\"col_heading level0 col3\" >Total Revenue</th>    </tr></thead><tbody>\n",
       "                <tr>\n",
       "                        <th id=\"T_637cc970_7156_11ea_99b7_8c85905a7079level0_row0\" class=\"row_heading level0 row0\" >0</th>\n",
       "                        <td id=\"T_637cc970_7156_11ea_99b7_8c85905a7079row0_col0\" class=\"data row0 col0\" >179</td>\n",
       "                        <td id=\"T_637cc970_7156_11ea_99b7_8c85905a7079row0_col1\" class=\"data row0 col1\" >$3.05</td>\n",
       "                        <td id=\"T_637cc970_7156_11ea_99b7_8c85905a7079row0_col2\" class=\"data row0 col2\" >780</td>\n",
       "                        <td id=\"T_637cc970_7156_11ea_99b7_8c85905a7079row0_col3\" class=\"data row0 col3\" >$2379.77</td>\n",
       "            </tr>\n",
       "    </tbody></table>"
      ],
      "text/plain": [
       "<pandas.io.formats.style.Styler at 0x120278278>"
      ]
     },
     "execution_count": 3,
     "metadata": {},
     "output_type": "execute_result"
    }
   ],
   "source": [
    "numitems =  len((purchase_data[\"Item ID\"]).unique())\n",
    "avgprice =  purchase_data[\"Price\"].mean()\n",
    "numpurchase = len((purchase_data[\"Purchase ID\"]).value_counts())\n",
    "totalrevenue =  purchase_data[\"Price\"].sum()\n",
    "\n",
    "summary = pd.DataFrame({\"Number of Items\":[numitems], \"Average Price\":[avgprice], \n",
    "                        \"Number of Purchases\": [numpurchase], \"Total Revenue\":[totalrevenue]})\n",
    "\n",
    "summary.style.format({'Average Price': \"${:.2f}\", 'Total Revenue':\"${:.2f}\"})\n",
    "\n"
   ]
  },
  {
   "cell_type": "markdown",
   "metadata": {},
   "source": [
    "## Gender Demographics"
   ]
  },
  {
   "cell_type": "markdown",
   "metadata": {},
   "source": [
    "* Percentage and Count of Male Players\n",
    "\n",
    "\n",
    "* Percentage and Count of Female Players\n",
    "\n",
    "\n",
    "* Percentage and Count of Other / Non-Disclosed\n",
    "\n",
    "\n"
   ]
  },
  {
   "cell_type": "code",
   "execution_count": 4,
   "metadata": {},
   "outputs": [
    {
     "data": {
      "text/html": [
       "<div>\n",
       "<style scoped>\n",
       "    .dataframe tbody tr th:only-of-type {\n",
       "        vertical-align: middle;\n",
       "    }\n",
       "\n",
       "    .dataframe tbody tr th {\n",
       "        vertical-align: top;\n",
       "    }\n",
       "\n",
       "    .dataframe thead th {\n",
       "        text-align: right;\n",
       "    }\n",
       "</style>\n",
       "<table border=\"1\" class=\"dataframe\">\n",
       "  <thead>\n",
       "    <tr style=\"text-align: right;\">\n",
       "      <th></th>\n",
       "      <th>Total Count</th>\n",
       "      <th>Percentage of Players</th>\n",
       "    </tr>\n",
       "  </thead>\n",
       "  <tbody>\n",
       "    <tr>\n",
       "      <th>Male</th>\n",
       "      <td>484</td>\n",
       "      <td>84.03%</td>\n",
       "    </tr>\n",
       "    <tr>\n",
       "      <th>Female</th>\n",
       "      <td>81</td>\n",
       "      <td>14.06%</td>\n",
       "    </tr>\n",
       "    <tr>\n",
       "      <th>Other / Non-Disclosed</th>\n",
       "      <td>11</td>\n",
       "      <td>1.91%</td>\n",
       "    </tr>\n",
       "  </tbody>\n",
       "</table>\n",
       "</div>"
      ],
      "text/plain": [
       "                       Total Count Percentage of Players\n",
       "Male                           484                84.03%\n",
       "Female                          81                14.06%\n",
       "Other / Non-Disclosed           11                 1.91%"
      ]
     },
     "execution_count": 4,
     "metadata": {},
     "output_type": "execute_result"
    }
   ],
   "source": [
    "gendercount = purchase_data[[\"Gender\", \"SN\"]].drop_duplicates()\n",
    "allcount = gendercount[\"Gender\"].value_counts()\n",
    "\n",
    "percentage = allcount / total * 100\n",
    "percentround = percentage.round(2).astype(str) + \"%\"\n",
    "\n",
    "\n",
    "demographics = pd.DataFrame({ \"Total Count\": allcount\n",
    "                             ,\"Percentage of Players\": percentround})\n",
    "\n",
    "demographics\n",
    "                           "
   ]
  },
  {
   "cell_type": "markdown",
   "metadata": {},
   "source": [
    "\n",
    "## Purchasing Analysis (Gender)"
   ]
  },
  {
   "cell_type": "markdown",
   "metadata": {},
   "source": [
    "* Run basic calculations to obtain purchase count, avg. purchase price, avg. purchase total per person etc. by gender\n",
    "\n",
    "\n",
    "\n",
    "\n",
    "* Create a summary data frame to hold the results\n",
    "\n",
    "\n",
    "* Optional: give the displayed data cleaner formatting\n",
    "\n",
    "\n",
    "* Display the summary data frame"
   ]
  },
  {
   "cell_type": "code",
   "execution_count": 5,
   "metadata": {
    "scrolled": true
   },
   "outputs": [
    {
     "data": {
      "text/html": [
       "<style  type=\"text/css\" >\n",
       "</style><table id=\"T_63889610_7156_11ea_8ba9_8c85905a7079\" ><thead>    <tr>        <th class=\"blank level0\" ></th>        <th class=\"col_heading level0 col0\" >Purchase Count</th>        <th class=\"col_heading level0 col1\" >Average Purchase Price</th>        <th class=\"col_heading level0 col2\" >Total Purchase Value</th>        <th class=\"col_heading level0 col3\" >Avg Total Purchase per Person</th>    </tr>    <tr>        <th class=\"index_name level0\" >Gender</th>        <th class=\"blank\" ></th>        <th class=\"blank\" ></th>        <th class=\"blank\" ></th>        <th class=\"blank\" ></th>    </tr></thead><tbody>\n",
       "                <tr>\n",
       "                        <th id=\"T_63889610_7156_11ea_8ba9_8c85905a7079level0_row0\" class=\"row_heading level0 row0\" >Female</th>\n",
       "                        <td id=\"T_63889610_7156_11ea_8ba9_8c85905a7079row0_col0\" class=\"data row0 col0\" >113</td>\n",
       "                        <td id=\"T_63889610_7156_11ea_8ba9_8c85905a7079row0_col1\" class=\"data row0 col1\" >$3.20</td>\n",
       "                        <td id=\"T_63889610_7156_11ea_8ba9_8c85905a7079row0_col2\" class=\"data row0 col2\" >$361.94</td>\n",
       "                        <td id=\"T_63889610_7156_11ea_8ba9_8c85905a7079row0_col3\" class=\"data row0 col3\" >$4.47</td>\n",
       "            </tr>\n",
       "            <tr>\n",
       "                        <th id=\"T_63889610_7156_11ea_8ba9_8c85905a7079level0_row1\" class=\"row_heading level0 row1\" >Male</th>\n",
       "                        <td id=\"T_63889610_7156_11ea_8ba9_8c85905a7079row1_col0\" class=\"data row1 col0\" >652</td>\n",
       "                        <td id=\"T_63889610_7156_11ea_8ba9_8c85905a7079row1_col1\" class=\"data row1 col1\" >$3.02</td>\n",
       "                        <td id=\"T_63889610_7156_11ea_8ba9_8c85905a7079row1_col2\" class=\"data row1 col2\" >$1967.64</td>\n",
       "                        <td id=\"T_63889610_7156_11ea_8ba9_8c85905a7079row1_col3\" class=\"data row1 col3\" >$4.07</td>\n",
       "            </tr>\n",
       "            <tr>\n",
       "                        <th id=\"T_63889610_7156_11ea_8ba9_8c85905a7079level0_row2\" class=\"row_heading level0 row2\" >Other / Non-Disclosed</th>\n",
       "                        <td id=\"T_63889610_7156_11ea_8ba9_8c85905a7079row2_col0\" class=\"data row2 col0\" >15</td>\n",
       "                        <td id=\"T_63889610_7156_11ea_8ba9_8c85905a7079row2_col1\" class=\"data row2 col1\" >$3.35</td>\n",
       "                        <td id=\"T_63889610_7156_11ea_8ba9_8c85905a7079row2_col2\" class=\"data row2 col2\" >$50.19</td>\n",
       "                        <td id=\"T_63889610_7156_11ea_8ba9_8c85905a7079row2_col3\" class=\"data row2 col3\" >$4.56</td>\n",
       "            </tr>\n",
       "    </tbody></table>"
      ],
      "text/plain": [
       "<pandas.io.formats.style.Styler at 0x12146e550>"
      ]
     },
     "execution_count": 5,
     "metadata": {},
     "output_type": "execute_result"
    }
   ],
   "source": [
    "# num of purchases\n",
    "groupgender = purchase_data.groupby(\"Gender\")\n",
    "numpurchase = groupgender[\"Purchase ID\"].count()\n",
    "\n",
    "# avg purchase price\n",
    "avgpurchase = groupgender[\"Price\"].mean()\n",
    "\n",
    "# total purchase price \n",
    "totalpurchase = groupgender[\"Price\"].sum()\n",
    "\n",
    "# avg total purchase price \n",
    "\n",
    "avgpurchase_gender = totalpurchase / allcount\n",
    "\n",
    "purchasedemographics = pd.DataFrame({ \"Purchase Count\": numpurchase\n",
    "                                     ,\"Average Purchase Price\": avgpurchase\n",
    "                                     ,\"Total Purchase Value\": totalpurchase\n",
    "                                     ,\"Avg Total Purchase per Person\": avgpurchase_gender})\n",
    "purchasedemographics.style.format({\"Average Purchase Price\":\"${:.2f}\"\n",
    "                                   ,\"Total Purchase Value\":\"${:.2f}\"\n",
    "                                   ,\"Avg Total Purchase per Person\":\"${:.2f}\"})\n",
    "\n"
   ]
  },
  {
   "cell_type": "markdown",
   "metadata": {},
   "source": [
    "## Age Demographics"
   ]
  },
  {
   "cell_type": "markdown",
   "metadata": {},
   "source": [
    "* Establish bins for ages\n",
    "\n",
    "\n",
    "* Categorize the existing players using the age bins. Hint: use pd.cut()\n",
    "\n",
    "\n",
    "* Calculate the numbers and percentages by age group\n",
    "\n",
    "\n",
    "* Create a summary data frame to hold the results\n",
    "\n",
    "\n",
    "* Optional: round the percentage column to two decimal points\n",
    "\n",
    "\n",
    "* Display Age Demographics Table\n"
   ]
  },
  {
   "cell_type": "code",
   "execution_count": 6,
   "metadata": {},
   "outputs": [
    {
     "data": {
      "text/html": [
       "<div>\n",
       "<style scoped>\n",
       "    .dataframe tbody tr th:only-of-type {\n",
       "        vertical-align: middle;\n",
       "    }\n",
       "\n",
       "    .dataframe tbody tr th {\n",
       "        vertical-align: top;\n",
       "    }\n",
       "\n",
       "    .dataframe thead th {\n",
       "        text-align: right;\n",
       "    }\n",
       "</style>\n",
       "<table border=\"1\" class=\"dataframe\">\n",
       "  <thead>\n",
       "    <tr style=\"text-align: right;\">\n",
       "      <th></th>\n",
       "      <th>Total Count</th>\n",
       "      <th>Pecentage of Players</th>\n",
       "    </tr>\n",
       "    <tr>\n",
       "      <th>Age Group</th>\n",
       "      <th></th>\n",
       "      <th></th>\n",
       "    </tr>\n",
       "  </thead>\n",
       "  <tbody>\n",
       "    <tr>\n",
       "      <th>&lt;10</th>\n",
       "      <td>17</td>\n",
       "      <td>2.95%</td>\n",
       "    </tr>\n",
       "    <tr>\n",
       "      <th>10-14</th>\n",
       "      <td>22</td>\n",
       "      <td>3.82%</td>\n",
       "    </tr>\n",
       "    <tr>\n",
       "      <th>15-19</th>\n",
       "      <td>107</td>\n",
       "      <td>18.58%</td>\n",
       "    </tr>\n",
       "    <tr>\n",
       "      <th>20-24</th>\n",
       "      <td>258</td>\n",
       "      <td>44.79%</td>\n",
       "    </tr>\n",
       "    <tr>\n",
       "      <th>25-29</th>\n",
       "      <td>77</td>\n",
       "      <td>13.37%</td>\n",
       "    </tr>\n",
       "    <tr>\n",
       "      <th>30-34</th>\n",
       "      <td>52</td>\n",
       "      <td>9.03%</td>\n",
       "    </tr>\n",
       "    <tr>\n",
       "      <th>35-39</th>\n",
       "      <td>31</td>\n",
       "      <td>5.38%</td>\n",
       "    </tr>\n",
       "    <tr>\n",
       "      <th>40+</th>\n",
       "      <td>12</td>\n",
       "      <td>2.08%</td>\n",
       "    </tr>\n",
       "  </tbody>\n",
       "</table>\n",
       "</div>"
      ],
      "text/plain": [
       "           Total Count Pecentage of Players\n",
       "Age Group                                  \n",
       "<10                 17                2.95%\n",
       "10-14               22                3.82%\n",
       "15-19              107               18.58%\n",
       "20-24              258               44.79%\n",
       "25-29               77               13.37%\n",
       "30-34               52                9.03%\n",
       "35-39               31                5.38%\n",
       "40+                 12                2.08%"
      ]
     },
     "execution_count": 6,
     "metadata": {},
     "output_type": "execute_result"
    }
   ],
   "source": [
    "purchase_data.Age.max()\n",
    "bins = [0, 9.9, 14.9, 19.9, 24.9, 29.9, 34.9, 39.9, 100]\n",
    "group_names = [\"<10\", \"10-14\", \"15-19\", \"20-24\", \"25-29\", \"30-34\", \"35-39\", \"40+\"]\n",
    "\n",
    "purchase_data[\"Age Group\"] = pd.cut(purchase_data[\"Age\"], bins, labels=group_names, include_lowest=True)\n",
    "purchase_data\n",
    "\n",
    "agegroup = purchase_data.groupby(\"Age Group\")\n",
    "\n",
    "agecount = agegroup[\"SN\"].nunique()\n",
    "\n",
    "agepercent = agecount / total * 100\n",
    "roundage = agepercent.round(2).astype(str) + \"%\"\n",
    "\n",
    "agedemographics = pd.DataFrame({\"Total Count\": agecount, \"Pecentage of Players\": roundage})\n",
    "\n",
    "agedemographics             \n",
    "\n",
    "\n",
    "              "
   ]
  },
  {
   "cell_type": "markdown",
   "metadata": {},
   "source": [
    "## Purchasing Analysis (Age)"
   ]
  },
  {
   "cell_type": "markdown",
   "metadata": {},
   "source": [
    "* Bin the purchase_data data frame by age\n",
    "\n",
    "\n",
    "* Run basic calculations to obtain purchase count, avg. purchase price, avg. purchase total per person etc. in the table below\n",
    "\n",
    "\n",
    "* Create a summary data frame to hold the results\n",
    "\n",
    "\n",
    "* Optional: give the displayed data cleaner formatting\n",
    "\n",
    "\n",
    "* Display the summary data frame"
   ]
  },
  {
   "cell_type": "code",
   "execution_count": 7,
   "metadata": {},
   "outputs": [
    {
     "data": {
      "text/html": [
       "<style  type=\"text/css\" >\n",
       "</style><table id=\"T_6394a1da_7156_11ea_a4ed_8c85905a7079\" ><thead>    <tr>        <th class=\"blank level0\" ></th>        <th class=\"col_heading level0 col0\" >Purchase Count</th>        <th class=\"col_heading level0 col1\" >Average Purchase Price</th>        <th class=\"col_heading level0 col2\" >Total Purchase Value</th>        <th class=\"col_heading level0 col3\" >Avg Total Purchase per Person</th>    </tr>    <tr>        <th class=\"index_name level0\" >Age Group</th>        <th class=\"blank\" ></th>        <th class=\"blank\" ></th>        <th class=\"blank\" ></th>        <th class=\"blank\" ></th>    </tr></thead><tbody>\n",
       "                <tr>\n",
       "                        <th id=\"T_6394a1da_7156_11ea_a4ed_8c85905a7079level0_row0\" class=\"row_heading level0 row0\" ><10</th>\n",
       "                        <td id=\"T_6394a1da_7156_11ea_a4ed_8c85905a7079row0_col0\" class=\"data row0 col0\" >23</td>\n",
       "                        <td id=\"T_6394a1da_7156_11ea_a4ed_8c85905a7079row0_col1\" class=\"data row0 col1\" >$3.35</td>\n",
       "                        <td id=\"T_6394a1da_7156_11ea_a4ed_8c85905a7079row0_col2\" class=\"data row0 col2\" >$77.13</td>\n",
       "                        <td id=\"T_6394a1da_7156_11ea_a4ed_8c85905a7079row0_col3\" class=\"data row0 col3\" >$4.54</td>\n",
       "            </tr>\n",
       "            <tr>\n",
       "                        <th id=\"T_6394a1da_7156_11ea_a4ed_8c85905a7079level0_row1\" class=\"row_heading level0 row1\" >10-14</th>\n",
       "                        <td id=\"T_6394a1da_7156_11ea_a4ed_8c85905a7079row1_col0\" class=\"data row1 col0\" >28</td>\n",
       "                        <td id=\"T_6394a1da_7156_11ea_a4ed_8c85905a7079row1_col1\" class=\"data row1 col1\" >$2.96</td>\n",
       "                        <td id=\"T_6394a1da_7156_11ea_a4ed_8c85905a7079row1_col2\" class=\"data row1 col2\" >$82.78</td>\n",
       "                        <td id=\"T_6394a1da_7156_11ea_a4ed_8c85905a7079row1_col3\" class=\"data row1 col3\" >$3.76</td>\n",
       "            </tr>\n",
       "            <tr>\n",
       "                        <th id=\"T_6394a1da_7156_11ea_a4ed_8c85905a7079level0_row2\" class=\"row_heading level0 row2\" >15-19</th>\n",
       "                        <td id=\"T_6394a1da_7156_11ea_a4ed_8c85905a7079row2_col0\" class=\"data row2 col0\" >136</td>\n",
       "                        <td id=\"T_6394a1da_7156_11ea_a4ed_8c85905a7079row2_col1\" class=\"data row2 col1\" >$3.04</td>\n",
       "                        <td id=\"T_6394a1da_7156_11ea_a4ed_8c85905a7079row2_col2\" class=\"data row2 col2\" >$412.89</td>\n",
       "                        <td id=\"T_6394a1da_7156_11ea_a4ed_8c85905a7079row2_col3\" class=\"data row2 col3\" >$3.86</td>\n",
       "            </tr>\n",
       "            <tr>\n",
       "                        <th id=\"T_6394a1da_7156_11ea_a4ed_8c85905a7079level0_row3\" class=\"row_heading level0 row3\" >20-24</th>\n",
       "                        <td id=\"T_6394a1da_7156_11ea_a4ed_8c85905a7079row3_col0\" class=\"data row3 col0\" >365</td>\n",
       "                        <td id=\"T_6394a1da_7156_11ea_a4ed_8c85905a7079row3_col1\" class=\"data row3 col1\" >$3.05</td>\n",
       "                        <td id=\"T_6394a1da_7156_11ea_a4ed_8c85905a7079row3_col2\" class=\"data row3 col2\" >$1114.06</td>\n",
       "                        <td id=\"T_6394a1da_7156_11ea_a4ed_8c85905a7079row3_col3\" class=\"data row3 col3\" >$4.32</td>\n",
       "            </tr>\n",
       "            <tr>\n",
       "                        <th id=\"T_6394a1da_7156_11ea_a4ed_8c85905a7079level0_row4\" class=\"row_heading level0 row4\" >25-29</th>\n",
       "                        <td id=\"T_6394a1da_7156_11ea_a4ed_8c85905a7079row4_col0\" class=\"data row4 col0\" >101</td>\n",
       "                        <td id=\"T_6394a1da_7156_11ea_a4ed_8c85905a7079row4_col1\" class=\"data row4 col1\" >$2.90</td>\n",
       "                        <td id=\"T_6394a1da_7156_11ea_a4ed_8c85905a7079row4_col2\" class=\"data row4 col2\" >$293.00</td>\n",
       "                        <td id=\"T_6394a1da_7156_11ea_a4ed_8c85905a7079row4_col3\" class=\"data row4 col3\" >$3.81</td>\n",
       "            </tr>\n",
       "            <tr>\n",
       "                        <th id=\"T_6394a1da_7156_11ea_a4ed_8c85905a7079level0_row5\" class=\"row_heading level0 row5\" >30-34</th>\n",
       "                        <td id=\"T_6394a1da_7156_11ea_a4ed_8c85905a7079row5_col0\" class=\"data row5 col0\" >73</td>\n",
       "                        <td id=\"T_6394a1da_7156_11ea_a4ed_8c85905a7079row5_col1\" class=\"data row5 col1\" >$2.93</td>\n",
       "                        <td id=\"T_6394a1da_7156_11ea_a4ed_8c85905a7079row5_col2\" class=\"data row5 col2\" >$214.00</td>\n",
       "                        <td id=\"T_6394a1da_7156_11ea_a4ed_8c85905a7079row5_col3\" class=\"data row5 col3\" >$4.12</td>\n",
       "            </tr>\n",
       "            <tr>\n",
       "                        <th id=\"T_6394a1da_7156_11ea_a4ed_8c85905a7079level0_row6\" class=\"row_heading level0 row6\" >35-39</th>\n",
       "                        <td id=\"T_6394a1da_7156_11ea_a4ed_8c85905a7079row6_col0\" class=\"data row6 col0\" >41</td>\n",
       "                        <td id=\"T_6394a1da_7156_11ea_a4ed_8c85905a7079row6_col1\" class=\"data row6 col1\" >$3.60</td>\n",
       "                        <td id=\"T_6394a1da_7156_11ea_a4ed_8c85905a7079row6_col2\" class=\"data row6 col2\" >$147.67</td>\n",
       "                        <td id=\"T_6394a1da_7156_11ea_a4ed_8c85905a7079row6_col3\" class=\"data row6 col3\" >$4.76</td>\n",
       "            </tr>\n",
       "            <tr>\n",
       "                        <th id=\"T_6394a1da_7156_11ea_a4ed_8c85905a7079level0_row7\" class=\"row_heading level0 row7\" >40+</th>\n",
       "                        <td id=\"T_6394a1da_7156_11ea_a4ed_8c85905a7079row7_col0\" class=\"data row7 col0\" >13</td>\n",
       "                        <td id=\"T_6394a1da_7156_11ea_a4ed_8c85905a7079row7_col1\" class=\"data row7 col1\" >$2.94</td>\n",
       "                        <td id=\"T_6394a1da_7156_11ea_a4ed_8c85905a7079row7_col2\" class=\"data row7 col2\" >$38.24</td>\n",
       "                        <td id=\"T_6394a1da_7156_11ea_a4ed_8c85905a7079row7_col3\" class=\"data row7 col3\" >$3.19</td>\n",
       "            </tr>\n",
       "    </tbody></table>"
      ],
      "text/plain": [
       "<pandas.io.formats.style.Styler at 0x12148c208>"
      ]
     },
     "execution_count": 7,
     "metadata": {},
     "output_type": "execute_result"
    }
   ],
   "source": [
    "purchasecountage = agegroup[\"Purchase ID\"].count()\n",
    "avgpriceage = agegroup[\"Price\"].mean()\n",
    "sumpriceage = agegroup[\"Price\"].sum()\n",
    "\n",
    "totalpurchaseage = sumpriceage / agecount\n",
    "\n",
    "agedemographics = pd.DataFrame({\"Purchase Count\": purchasecountage\n",
    "                               ,\"Average Purchase Price\": avgpriceage\n",
    "                               ,\"Total Purchase Value\": sumpriceage\n",
    "                               ,\"Avg Total Purchase per Person\":totalpurchaseage})\n",
    "\n",
    "agedemographics.style.format({\"Average Purchase Price\":\"${:.2f}\"\n",
    "                                   ,\"Total Purchase Value\":\"${:.2f}\"\n",
    "                                   ,\"Avg Total Purchase per Person\":\"${:.2f}\"})\n",
    "\n"
   ]
  },
  {
   "cell_type": "markdown",
   "metadata": {},
   "source": [
    "## Top Spenders"
   ]
  },
  {
   "cell_type": "markdown",
   "metadata": {},
   "source": [
    "* Run basic calculations to obtain the results in the table below\n",
    "\n",
    "\n",
    "* Create a summary data frame to hold the results\n",
    "\n",
    "\n",
    "* Sort the total purchase value column in descending order\n",
    "\n",
    "\n",
    "* Optional: give the displayed data cleaner formatting\n",
    "\n",
    "\n",
    "* Display a preview of the summary data frame\n",
    "\n"
   ]
  },
  {
   "cell_type": "code",
   "execution_count": 8,
   "metadata": {},
   "outputs": [
    {
     "data": {
      "text/html": [
       "<style  type=\"text/css\" >\n",
       "</style><table id=\"T_639a7d94_7156_11ea_8e56_8c85905a7079\" ><thead>    <tr>        <th class=\"blank level0\" ></th>        <th class=\"col_heading level0 col0\" >Purchase Count</th>        <th class=\"col_heading level0 col1\" >Average Purchase Price</th>        <th class=\"col_heading level0 col2\" >Total Purchase Value</th>    </tr>    <tr>        <th class=\"index_name level0\" >SN</th>        <th class=\"blank\" ></th>        <th class=\"blank\" ></th>        <th class=\"blank\" ></th>    </tr></thead><tbody>\n",
       "                <tr>\n",
       "                        <th id=\"T_639a7d94_7156_11ea_8e56_8c85905a7079level0_row0\" class=\"row_heading level0 row0\" >Lisosia93</th>\n",
       "                        <td id=\"T_639a7d94_7156_11ea_8e56_8c85905a7079row0_col0\" class=\"data row0 col0\" >5</td>\n",
       "                        <td id=\"T_639a7d94_7156_11ea_8e56_8c85905a7079row0_col1\" class=\"data row0 col1\" >$3.79</td>\n",
       "                        <td id=\"T_639a7d94_7156_11ea_8e56_8c85905a7079row0_col2\" class=\"data row0 col2\" >$18.96</td>\n",
       "            </tr>\n",
       "            <tr>\n",
       "                        <th id=\"T_639a7d94_7156_11ea_8e56_8c85905a7079level0_row1\" class=\"row_heading level0 row1\" >Idastidru52</th>\n",
       "                        <td id=\"T_639a7d94_7156_11ea_8e56_8c85905a7079row1_col0\" class=\"data row1 col0\" >4</td>\n",
       "                        <td id=\"T_639a7d94_7156_11ea_8e56_8c85905a7079row1_col1\" class=\"data row1 col1\" >$3.86</td>\n",
       "                        <td id=\"T_639a7d94_7156_11ea_8e56_8c85905a7079row1_col2\" class=\"data row1 col2\" >$15.45</td>\n",
       "            </tr>\n",
       "            <tr>\n",
       "                        <th id=\"T_639a7d94_7156_11ea_8e56_8c85905a7079level0_row2\" class=\"row_heading level0 row2\" >Chamjask73</th>\n",
       "                        <td id=\"T_639a7d94_7156_11ea_8e56_8c85905a7079row2_col0\" class=\"data row2 col0\" >3</td>\n",
       "                        <td id=\"T_639a7d94_7156_11ea_8e56_8c85905a7079row2_col1\" class=\"data row2 col1\" >$4.61</td>\n",
       "                        <td id=\"T_639a7d94_7156_11ea_8e56_8c85905a7079row2_col2\" class=\"data row2 col2\" >$13.83</td>\n",
       "            </tr>\n",
       "            <tr>\n",
       "                        <th id=\"T_639a7d94_7156_11ea_8e56_8c85905a7079level0_row3\" class=\"row_heading level0 row3\" >Iral74</th>\n",
       "                        <td id=\"T_639a7d94_7156_11ea_8e56_8c85905a7079row3_col0\" class=\"data row3 col0\" >4</td>\n",
       "                        <td id=\"T_639a7d94_7156_11ea_8e56_8c85905a7079row3_col1\" class=\"data row3 col1\" >$3.40</td>\n",
       "                        <td id=\"T_639a7d94_7156_11ea_8e56_8c85905a7079row3_col2\" class=\"data row3 col2\" >$13.62</td>\n",
       "            </tr>\n",
       "            <tr>\n",
       "                        <th id=\"T_639a7d94_7156_11ea_8e56_8c85905a7079level0_row4\" class=\"row_heading level0 row4\" >Iskadarya95</th>\n",
       "                        <td id=\"T_639a7d94_7156_11ea_8e56_8c85905a7079row4_col0\" class=\"data row4 col0\" >3</td>\n",
       "                        <td id=\"T_639a7d94_7156_11ea_8e56_8c85905a7079row4_col1\" class=\"data row4 col1\" >$4.37</td>\n",
       "                        <td id=\"T_639a7d94_7156_11ea_8e56_8c85905a7079row4_col2\" class=\"data row4 col2\" >$13.10</td>\n",
       "            </tr>\n",
       "    </tbody></table>"
      ],
      "text/plain": [
       "<pandas.io.formats.style.Styler at 0x1214a2080>"
      ]
     },
     "execution_count": 8,
     "metadata": {},
     "output_type": "execute_result"
    }
   ],
   "source": [
    "spender = purchase_data.groupby(\"SN\")\n",
    "spendercount = spender[\"Purchase ID\"].count()\n",
    "spenderprice = spender[\"Price\"].mean()\n",
    "spendertotal = spender[\"Price\"].sum()\n",
    "\n",
    "topspenders = pd.DataFrame({\"Purchase Count\": spendercount\n",
    "                               ,\"Average Purchase Price\": spenderprice\n",
    "                               ,\"Total Purchase Value\": spendertotal})\n",
    "formatspenders = topspenders.sort_values([\"Total Purchase Value\"], ascending=False).head()\n",
    "\n",
    "formatspenders.style.format({\"Average Purchase Price\":\"${:.2f}\"\n",
    "                                   ,\"Total Purchase Value\":\"${:.2f}\"})\n",
    "\n"
   ]
  },
  {
   "cell_type": "markdown",
   "metadata": {},
   "source": [
    "## Most Popular Items"
   ]
  },
  {
   "cell_type": "markdown",
   "metadata": {},
   "source": [
    "* Retrieve the Item ID, Item Name, and Item Price columns\n",
    "\n",
    "\n",
    "* Group by Item ID and Item Name. Perform calculations to obtain purchase count, item price, and total purchase value\n",
    "\n",
    "\n",
    "* Create a summary data frame to hold the results\n",
    "\n",
    "\n",
    "* Sort the purchase count column in descending order\n",
    "\n",
    "\n",
    "* Optional: give the displayed data cleaner formatting\n",
    "\n",
    "\n",
    "* Display a preview of the summary data frame\n",
    "\n"
   ]
  },
  {
   "cell_type": "code",
   "execution_count": 9,
   "metadata": {},
   "outputs": [
    {
     "data": {
      "text/html": [
       "<style  type=\"text/css\" >\n",
       "</style><table id=\"T_639e6aa8_7156_11ea_b47d_8c85905a7079\" ><thead>    <tr>        <th class=\"blank\" ></th>        <th class=\"blank level0\" ></th>        <th class=\"col_heading level0 col0\" >Purchase Count</th>        <th class=\"col_heading level0 col1\" >Item Price</th>        <th class=\"col_heading level0 col2\" >Total Purchase Value</th>    </tr>    <tr>        <th class=\"index_name level0\" >Item ID</th>        <th class=\"index_name level1\" >Item Name</th>        <th class=\"blank\" ></th>        <th class=\"blank\" ></th>        <th class=\"blank\" ></th>    </tr></thead><tbody>\n",
       "                <tr>\n",
       "                        <th id=\"T_639e6aa8_7156_11ea_b47d_8c85905a7079level0_row0\" class=\"row_heading level0 row0\" >92</th>\n",
       "                        <th id=\"T_639e6aa8_7156_11ea_b47d_8c85905a7079level1_row0\" class=\"row_heading level1 row0\" >Final Critic</th>\n",
       "                        <td id=\"T_639e6aa8_7156_11ea_b47d_8c85905a7079row0_col0\" class=\"data row0 col0\" >13</td>\n",
       "                        <td id=\"T_639e6aa8_7156_11ea_b47d_8c85905a7079row0_col1\" class=\"data row0 col1\" >$4.61</td>\n",
       "                        <td id=\"T_639e6aa8_7156_11ea_b47d_8c85905a7079row0_col2\" class=\"data row0 col2\" >$59.99</td>\n",
       "            </tr>\n",
       "            <tr>\n",
       "                        <th id=\"T_639e6aa8_7156_11ea_b47d_8c85905a7079level0_row1\" class=\"row_heading level0 row1\" >178</th>\n",
       "                        <th id=\"T_639e6aa8_7156_11ea_b47d_8c85905a7079level1_row1\" class=\"row_heading level1 row1\" >Oathbreaker, Last Hope of the Breaking Storm</th>\n",
       "                        <td id=\"T_639e6aa8_7156_11ea_b47d_8c85905a7079row1_col0\" class=\"data row1 col0\" >12</td>\n",
       "                        <td id=\"T_639e6aa8_7156_11ea_b47d_8c85905a7079row1_col1\" class=\"data row1 col1\" >$4.23</td>\n",
       "                        <td id=\"T_639e6aa8_7156_11ea_b47d_8c85905a7079row1_col2\" class=\"data row1 col2\" >$50.76</td>\n",
       "            </tr>\n",
       "            <tr>\n",
       "                        <th id=\"T_639e6aa8_7156_11ea_b47d_8c85905a7079level0_row2\" class=\"row_heading level0 row2\" >145</th>\n",
       "                        <th id=\"T_639e6aa8_7156_11ea_b47d_8c85905a7079level1_row2\" class=\"row_heading level1 row2\" >Fiery Glass Crusader</th>\n",
       "                        <td id=\"T_639e6aa8_7156_11ea_b47d_8c85905a7079row2_col0\" class=\"data row2 col0\" >9</td>\n",
       "                        <td id=\"T_639e6aa8_7156_11ea_b47d_8c85905a7079row2_col1\" class=\"data row2 col1\" >$4.58</td>\n",
       "                        <td id=\"T_639e6aa8_7156_11ea_b47d_8c85905a7079row2_col2\" class=\"data row2 col2\" >$41.22</td>\n",
       "            </tr>\n",
       "            <tr>\n",
       "                        <th id=\"T_639e6aa8_7156_11ea_b47d_8c85905a7079level0_row3\" class=\"row_heading level0 row3\" >132</th>\n",
       "                        <th id=\"T_639e6aa8_7156_11ea_b47d_8c85905a7079level1_row3\" class=\"row_heading level1 row3\" >Persuasion</th>\n",
       "                        <td id=\"T_639e6aa8_7156_11ea_b47d_8c85905a7079row3_col0\" class=\"data row3 col0\" >9</td>\n",
       "                        <td id=\"T_639e6aa8_7156_11ea_b47d_8c85905a7079row3_col1\" class=\"data row3 col1\" >$3.22</td>\n",
       "                        <td id=\"T_639e6aa8_7156_11ea_b47d_8c85905a7079row3_col2\" class=\"data row3 col2\" >$28.99</td>\n",
       "            </tr>\n",
       "            <tr>\n",
       "                        <th id=\"T_639e6aa8_7156_11ea_b47d_8c85905a7079level0_row4\" class=\"row_heading level0 row4\" >108</th>\n",
       "                        <th id=\"T_639e6aa8_7156_11ea_b47d_8c85905a7079level1_row4\" class=\"row_heading level1 row4\" >Extraction, Quickblade Of Trembling Hands</th>\n",
       "                        <td id=\"T_639e6aa8_7156_11ea_b47d_8c85905a7079row4_col0\" class=\"data row4 col0\" >9</td>\n",
       "                        <td id=\"T_639e6aa8_7156_11ea_b47d_8c85905a7079row4_col1\" class=\"data row4 col1\" >$3.53</td>\n",
       "                        <td id=\"T_639e6aa8_7156_11ea_b47d_8c85905a7079row4_col2\" class=\"data row4 col2\" >$31.77</td>\n",
       "            </tr>\n",
       "    </tbody></table>"
      ],
      "text/plain": [
       "<pandas.io.formats.style.Styler at 0x1214a28d0>"
      ]
     },
     "execution_count": 9,
     "metadata": {},
     "output_type": "execute_result"
    }
   ],
   "source": [
    "items = purchase_data[[\"Item ID\", \"Item Name\", \"Price\"]]\n",
    "itemgroup = items.groupby([\"Item ID\",\"Item Name\"])\n",
    "itemcount = itemgroup[\"Price\"].count()\n",
    "itemtotal = itemgroup[\"Price\"].sum()\n",
    "itemprice = itemtotal / itemcount\n",
    "\n",
    "mostitems = pd.DataFrame({\"Purchase Count\":itemcount,\"Item Price\":itemprice\n",
    "                         ,\"Total Purchase Value\":itemtotal})\n",
    "\n",
    "formatitem = mostitems.sort_values([\"Purchase Count\"], ascending=False).head()\n",
    "\n",
    "formatitem.style.format({\"Item Price\":\"${:,.2f}\"\n",
    "                                   ,\"Total Purchase Value\":\"${:.2f}\"})"
   ]
  },
  {
   "cell_type": "markdown",
   "metadata": {},
   "source": [
    "## Most Profitable Items"
   ]
  },
  {
   "cell_type": "markdown",
   "metadata": {},
   "source": [
    "* Sort the above table by total purchase value in descending order\n",
    "\n",
    "\n",
    "* Optional: give the displayed data cleaner formatting\n",
    "\n",
    "\n",
    "* Display a preview of the data frame\n"
   ]
  },
  {
   "cell_type": "code",
   "execution_count": 10,
   "metadata": {
    "scrolled": true
   },
   "outputs": [
    {
     "data": {
      "text/html": [
       "<style  type=\"text/css\" >\n",
       "</style><table id=\"T_63a065f6_7156_11ea_98a0_8c85905a7079\" ><thead>    <tr>        <th class=\"blank\" ></th>        <th class=\"blank level0\" ></th>        <th class=\"col_heading level0 col0\" >Purchase Count</th>        <th class=\"col_heading level0 col1\" >Item Price</th>        <th class=\"col_heading level0 col2\" >Total Purchase Value</th>    </tr>    <tr>        <th class=\"index_name level0\" >Item ID</th>        <th class=\"index_name level1\" >Item Name</th>        <th class=\"blank\" ></th>        <th class=\"blank\" ></th>        <th class=\"blank\" ></th>    </tr></thead><tbody>\n",
       "                <tr>\n",
       "                        <th id=\"T_63a065f6_7156_11ea_98a0_8c85905a7079level0_row0\" class=\"row_heading level0 row0\" >92</th>\n",
       "                        <th id=\"T_63a065f6_7156_11ea_98a0_8c85905a7079level1_row0\" class=\"row_heading level1 row0\" >Final Critic</th>\n",
       "                        <td id=\"T_63a065f6_7156_11ea_98a0_8c85905a7079row0_col0\" class=\"data row0 col0\" >13</td>\n",
       "                        <td id=\"T_63a065f6_7156_11ea_98a0_8c85905a7079row0_col1\" class=\"data row0 col1\" >$4.61</td>\n",
       "                        <td id=\"T_63a065f6_7156_11ea_98a0_8c85905a7079row0_col2\" class=\"data row0 col2\" >$59.99</td>\n",
       "            </tr>\n",
       "            <tr>\n",
       "                        <th id=\"T_63a065f6_7156_11ea_98a0_8c85905a7079level0_row1\" class=\"row_heading level0 row1\" >178</th>\n",
       "                        <th id=\"T_63a065f6_7156_11ea_98a0_8c85905a7079level1_row1\" class=\"row_heading level1 row1\" >Oathbreaker, Last Hope of the Breaking Storm</th>\n",
       "                        <td id=\"T_63a065f6_7156_11ea_98a0_8c85905a7079row1_col0\" class=\"data row1 col0\" >12</td>\n",
       "                        <td id=\"T_63a065f6_7156_11ea_98a0_8c85905a7079row1_col1\" class=\"data row1 col1\" >$4.23</td>\n",
       "                        <td id=\"T_63a065f6_7156_11ea_98a0_8c85905a7079row1_col2\" class=\"data row1 col2\" >$50.76</td>\n",
       "            </tr>\n",
       "            <tr>\n",
       "                        <th id=\"T_63a065f6_7156_11ea_98a0_8c85905a7079level0_row2\" class=\"row_heading level0 row2\" >82</th>\n",
       "                        <th id=\"T_63a065f6_7156_11ea_98a0_8c85905a7079level1_row2\" class=\"row_heading level1 row2\" >Nirvana</th>\n",
       "                        <td id=\"T_63a065f6_7156_11ea_98a0_8c85905a7079row2_col0\" class=\"data row2 col0\" >9</td>\n",
       "                        <td id=\"T_63a065f6_7156_11ea_98a0_8c85905a7079row2_col1\" class=\"data row2 col1\" >$4.90</td>\n",
       "                        <td id=\"T_63a065f6_7156_11ea_98a0_8c85905a7079row2_col2\" class=\"data row2 col2\" >$44.10</td>\n",
       "            </tr>\n",
       "            <tr>\n",
       "                        <th id=\"T_63a065f6_7156_11ea_98a0_8c85905a7079level0_row3\" class=\"row_heading level0 row3\" >145</th>\n",
       "                        <th id=\"T_63a065f6_7156_11ea_98a0_8c85905a7079level1_row3\" class=\"row_heading level1 row3\" >Fiery Glass Crusader</th>\n",
       "                        <td id=\"T_63a065f6_7156_11ea_98a0_8c85905a7079row3_col0\" class=\"data row3 col0\" >9</td>\n",
       "                        <td id=\"T_63a065f6_7156_11ea_98a0_8c85905a7079row3_col1\" class=\"data row3 col1\" >$4.58</td>\n",
       "                        <td id=\"T_63a065f6_7156_11ea_98a0_8c85905a7079row3_col2\" class=\"data row3 col2\" >$41.22</td>\n",
       "            </tr>\n",
       "            <tr>\n",
       "                        <th id=\"T_63a065f6_7156_11ea_98a0_8c85905a7079level0_row4\" class=\"row_heading level0 row4\" >103</th>\n",
       "                        <th id=\"T_63a065f6_7156_11ea_98a0_8c85905a7079level1_row4\" class=\"row_heading level1 row4\" >Singed Scalpel</th>\n",
       "                        <td id=\"T_63a065f6_7156_11ea_98a0_8c85905a7079row4_col0\" class=\"data row4 col0\" >8</td>\n",
       "                        <td id=\"T_63a065f6_7156_11ea_98a0_8c85905a7079row4_col1\" class=\"data row4 col1\" >$4.35</td>\n",
       "                        <td id=\"T_63a065f6_7156_11ea_98a0_8c85905a7079row4_col2\" class=\"data row4 col2\" >$34.80</td>\n",
       "            </tr>\n",
       "    </tbody></table>"
      ],
      "text/plain": [
       "<pandas.io.formats.style.Styler at 0x12146ea90>"
      ]
     },
     "execution_count": 10,
     "metadata": {},
     "output_type": "execute_result"
    }
   ],
   "source": [
    "formatitem = mostitems.sort_values([\"Total Purchase Value\"], ascending=False).head()\n",
    "\n",
    "formatitem.style.format({\"Item Price\":\"${:,.2f}\"\n",
    "                                   ,\"Total Purchase Value\":\"${:.2f}\"})"
   ]
  },
  {
   "cell_type": "code",
   "execution_count": null,
   "metadata": {},
   "outputs": [],
   "source": []
  },
  {
   "cell_type": "code",
   "execution_count": null,
   "metadata": {},
   "outputs": [],
   "source": []
  },
  {
   "cell_type": "code",
   "execution_count": null,
   "metadata": {},
   "outputs": [],
   "source": []
  }
 ],
 "metadata": {
  "anaconda-cloud": {},
  "kernel_info": {
   "name": "python3"
  },
  "kernelspec": {
   "display_name": "Python 3",
   "language": "python",
   "name": "python3"
  },
  "language_info": {
   "codemirror_mode": {
    "name": "ipython",
    "version": 3
   },
   "file_extension": ".py",
   "mimetype": "text/x-python",
   "name": "python",
   "nbconvert_exporter": "python",
   "pygments_lexer": "ipython3",
   "version": "3.6.10"
  },
  "latex_envs": {
   "LaTeX_envs_menu_present": true,
   "autoclose": false,
   "autocomplete": true,
   "bibliofile": "biblio.bib",
   "cite_by": "apalike",
   "current_citInitial": 1,
   "eqLabelWithNumbers": true,
   "eqNumInitial": 1,
   "hotkeys": {
    "equation": "Ctrl-E",
    "itemize": "Ctrl-I"
   },
   "labels_anchors": false,
   "latex_user_defs": false,
   "report_style_numbering": false,
   "user_envs_cfg": false
  },
  "nteract": {
   "version": "0.2.0"
  }
 },
 "nbformat": 4,
 "nbformat_minor": 2
}
